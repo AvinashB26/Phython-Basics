{
  "nbformat": 4,
  "nbformat_minor": 0,
  "metadata": {
    "colab": {
      "provenance": []
    },
    "kernelspec": {
      "name": "python3",
      "display_name": "Python 3"
    },
    "language_info": {
      "name": "python"
    }
  },
  "cells": [
    {
      "cell_type": "markdown",
      "source": [
        "#Python Basics"
      ],
      "metadata": {
        "id": "gDumQ6bFB4_F"
      }
    },
    {
      "cell_type": "markdown",
      "source": [
        "1. What is Python, and why is it popular?\n",
        "  - Python is a programming language for creating instruction for a computer to follow. Python is a popular programming language. It was created by Guido van Rossum, and released in 1991.\n",
        "\n",
        "    It is used for:\n",
        "\n",
        "    web development (server-side),\n",
        "    software development,\n",
        "    mathematics,\n",
        "    system scripting.\n",
        "\n",
        "  - This language is widely used in the data industry. It hae a lot of libraries such as pandas, seaborn, numpy.\n",
        "  - It is used for frontend, backend and also in data analysis.\n",
        "  - Python can be used to handle big data and perform complex mathematics.\n",
        "  - Python works on different platforms (Windows, Mac, Linux, Raspberry Pi, etc).\n",
        "  - Python has a simple syntax similar to the English language.\n",
        "  - It can be used in numerous applications, including:\n",
        "    Web development\n",
        "    Data science and analysis (Pandas, NumPy)\n",
        "    Machine learning and artificial intelligence\n",
        "    Automation and scripting\n",
        "\n",
        "2. What is an interpreter in Python?\n",
        "  - A Python interpreter is a program that directly executes Python code line by line. It reads your code, translates it into bytecode, and runs it using the Python Virtual Machine.\n",
        "\n",
        "3. What are pre-defined keywords in Python?\n",
        "  - In Python, pre-defined keywords are reserved words that have special meanings and purposes within the language. You cannot use them as identifiers (like variable names, function names, or class names). They are fundamental to Python's syntax and structure.\n",
        "\n",
        "  Below are some keywords serve various purposes, such as:\n",
        "    Defining control flow (e.g., if, else, for, while).\n",
        "    Creating functions and classes (e.g., def, class).\n",
        "    Handling exceptions (e.g., try, except).\n",
        "    Performing logical operations (e.g., and, or, not).\n",
        "    Importing modules (e.g. import, from)\n",
        "    Defining boolean values (True, False)\n",
        "    Defining null values (None)\n",
        "\n",
        "4. Can keywords be used as variable names?\n",
        "  - No, keywords cannot be used as variable names in Python. Python's keywords are reserved words that have specific, pre-defined meanings within the language. Attempting to use a keyword as a variable name will result in a syntax error.\n",
        "\n",
        "  Eg.\n",
        "        for = 10\n",
        "        class = \"MyClass\"\n",
        "\n",
        "        This will cause a syntax error as \"for\" and \"class\" are reserved key words.\n",
        "\n",
        "5. What is mutability in Python?\n",
        "  - Mutability in Python means whether a value of any object can be changed after it is created.\n",
        "  \n",
        "    Mutable object-> Objects can be modified after they created as List, dictionary, sets.\n",
        "    \n",
        "    Immutable object-> Objects can't be modified after they created as integers, float, tuples, string.\n",
        "\n",
        "6. Why are lists mutable, but tuples are immutable?\n",
        "  - The difference between the mutability of lists and the immutability of tuples in Python stems from their design and intended use cases.\n",
        "  \n",
        "    Lists (Mutable)->\n",
        "    \n",
        "    Lists are designed for collections of items that may need to be modified. This includes adding, removing, or changing elements. This is accomplished through operations like append(), insert(), remove(), pop(), List[0]=\"New_val\".\n",
        "    \n",
        "    It is used for storing dynamic collection of data, building data structure that requires modifications.\n",
        "\n",
        "    Tuples (Immutable)->\n",
        "    \n",
        "    Tuples are designe for collection of item that should not be changed. They are intended for situation where data integrity is crucial and accidentally modification should be prevented. We can not add, remove or change elements in tuples.\n",
        "    It is used for storing the data that should not be change e.g. coordinates, Unique identification nos., account no etc.\n",
        "\n",
        "7. What is the difference between “==” and “is” operators in Python?\n",
        "  \n",
        "\"==\" (Equality Operator):-\n",
        "\n",
        "       .This operator compares the values of two objects.\n",
        "    \n",
        "       .It checks if the contents of the objects are equal.\n",
        "    \n",
        "       .If the values are the same, it returns True; otherwise, it returns False.\n",
        "\n",
        "     \n",
        "  \"is\" (Identity Operator):\n",
        "\n",
        "    . This operator compares the identities of two objects.\n",
        "    \n",
        "    . It checks if two variables refer to the same object in memory.\n",
        "    \n",
        "    . If they point to the same memory location, it returns True; otherwise, it returns False.\n",
        "\n"
      ],
      "metadata": {
        "id": "6LnnIZcZCBQY"
      }
    },
    {
      "cell_type": "code",
      "source": [
        "list1 = [1,2,3]\n",
        "list2 = [1,2,3]\n",
        "list3 = list1\n",
        "print(list1 == list2) #output: true (same value)\n",
        "print(list1 is list2) #output: false (different object)\n",
        "print(list1 == list3) #output: true (same object)"
      ],
      "metadata": {
        "id": "Cy0t-UggYBw9"
      },
      "execution_count": null,
      "outputs": []
    },
    {
      "cell_type": "markdown",
      "source": [
        "8. What are logical operators in Python?\n",
        "  - In Python, logical operators are used to combine conditional statements. They work with Boolean values (True or False) and return a Boolean result. There are 3 main logical operator as below.\n",
        "  1. \"and\" operator:-\n",
        "      Returns \"True\" if both operand is \"True\", otherwise returns \"false\".\n",
        "  2. \"or\" operator:-\n",
        "      Returns \"True\" if atleast one operand is \"true\", otherwise returns \"false\".\n",
        "  3. \"not\" operator:-\n",
        "      Returns the opposite Boolean value of the operand.\n",
        "\n",
        "**AND Operator**\n",
        "\n",
        "| Operand 1 | Operand 2 | Result |\n",
        "|-----------|-----------|--------|\n",
        "| True      | True      | True   |\n",
        "| True      | False     | False  |\n",
        "| False     | True      | False  |\n",
        "| False     | False     | False  |\n",
        "\n",
        "**OR Operator**\n",
        "\n",
        "| Operand 1 | Operand 2 | Result |\n",
        "|-----------|-----------|--------|\n",
        "| True      | True      | True   |\n",
        "| True      | False     | True   |\n",
        "| False     | True      | True   |\n",
        "| False     | False     | False  |\n",
        "\n",
        "**NOT Operator**\n",
        "\n",
        "| Operand | Result |\n",
        "|---------|--------|\n",
        "| True    | False  |\n",
        "| False   | True   |\n",
        "\n",
        "9. What is type casting in Python?\n",
        "    - In python type casting also known as type conversion, it is the process of changing variable data type from one type to another type.\n",
        "      \n",
        "      Ex."
      ],
      "metadata": {
        "id": "L3_vruK-ZV_S"
      }
    },
    {
      "cell_type": "code",
      "source": [
        "a = \"3\" # Here the type of var a is an string.\n",
        "b = 5   # Here the type of var b is an int.\n",
        "\n",
        "print (a + b) # it will throgh a Error\n",
        "\n",
        "# So we have to change var a type from string to int\n",
        "print (int(a) + b)  #Type casting using \"int\" just before var name.\n",
        "# Now it will give us the correct result."
      ],
      "metadata": {
        "collapsed": true,
        "cellView": "code",
        "id": "ymPv9GCwYi9E"
      },
      "execution_count": null,
      "outputs": []
    },
    {
      "cell_type": "markdown",
      "source": [
        "**Type of type casting:-**\n",
        "1. Implicit type casting:-\n",
        "    It typically happens when performing operations involving mixed data types, such as adding an integer to a float.\n",
        "    \n",
        "    Ex...\n",
        "        Result = 15+5.5\n",
        "        20.5\n",
        "        The integer 10 is implicitly converted to 10.0, and the result is 15.5, a float.\n",
        "2. Explicit type casting:-\n",
        "    This occurs when you manually convert data types using built-in functions. We have to tell python to convert a value to a specific data type.\n",
        "\n",
        "        int(): Converts a value to an integer.\n",
        "        float(): Converts a value to a floating-point number.\n",
        "        str(): Converts a value to a string.\n",
        "        list(): Converts a value to a list.\n",
        "        tuple(): Converts a value to a tuple.\n",
        "\n",
        "\n",
        "10. What is the difference between implicit and explicit type casting?\n",
        "    - **Type of type casting:-**\n",
        "  1. Implicit type casting:-\n",
        "    It typically happens when performing operations involving mixed data types, such as adding an integer to a float.\n",
        "    \n",
        "    Ex...\n",
        "        Result = 15+5.5\n",
        "        20.5\n",
        "        The integer 10 is implicitly converted to 10.0, and the result is 15.5, a float.\n",
        "  2. Explicit type casting:-\n",
        "    This occurs when you manually convert data types using built-in functions. We have to tell python to convert a value to a specific data type.\n",
        "\n",
        "        int(): Converts a value to an integer.\n",
        "        float(): Converts a value to a floating-point number.\n",
        "        str(): Converts a value to a string.\n",
        "        list(): Converts a value to a list.\n",
        "        tuple(): Converts a value to a tuple.\n",
        "\n",
        "11. What is the purpose of conditional statements in Python?\n",
        "    - Conditional statement in python enables to write programme to make dicisions. Essentially, they control the flow of execution, allowing different blocks of code to run depending on condition are met.\n",
        "    \n",
        "    Below are some primary purpose of conditional statement.\n",
        "    \n",
        "    - In decision making -> Conditional statements allow a program to evaluate conditions and execute different code paths based on whether those conditions are true or false.\n",
        "\n",
        "    - Controlling Programme Flow-> They provide a way to direct the order in which code is executed. This is fundamental for creating programs that can handle complex logic and adapt to varying circumstances.\n",
        "    \n",
        "    - Implementing Logic-> Conditional statements are essential for implementing logical rules and constraints within a program. They allow you to specify what actions should be taken under specific circumstances.\n",
        "\n",
        "12. How does the elif statement work?\n",
        "    - In Python, the elif statement is a crucial part of conditional logic, allowing you to check multiple conditions sequentially.\n",
        "\n",
        "      \"elif\" means \"else if\":\n",
        "    It's used when you want to check additional conditions after an initial if condition is false.\n",
        "\n",
        "Ex:-\n",
        "\n"
      ],
      "metadata": {
        "id": "5EPSTAMybkBW"
      }
    },
    {
      "cell_type": "code",
      "source": [
        "x = 10\n",
        "\n",
        "if x > 15:\n",
        "    print(\"x is greater than 15\") # The first condition is false.\n",
        "elif x > 5:\n",
        "    print(\"x is greater than 5\")  # The second condition is True. And the outpur is \"X is greater than 5\" and rest elif and else blocks are skipped.\n",
        "elif x > 0:\n",
        "    print(\"x is greater than 0\")\n",
        "else:\n",
        "    print(\"x is not positive\")"
      ],
      "metadata": {
        "id": "W_rtkFvUia4Q"
      },
      "execution_count": null,
      "outputs": []
    },
    {
      "cell_type": "markdown",
      "source": [
        "13. What is the difference between for and while loops?\n",
        "    - The main difference between both loop is how they control the loop mechanism.\n",
        "    \n",
        "    \"for\" Loops:\n",
        "\n",
        "      1. These are designed for iterating over sequences (like lists, strings, or ranges).\n",
        "      2. They excel when you know in advance how many times you need to repeat a block of code.\n",
        "\n",
        "    \"while\" Loops:\n",
        "      1. These continue executing a block of code as long as a specified condition remains true.\n",
        "      2. They are ideal when you don't know the exact number of iterations beforehand.\n",
        "    \n",
        "14. Describe a scenario where a while loop is more suitable than a for loop.\n",
        "    - A while loop is more suitable than a for loop when you need to repeat a block of code until a specific condition is met, and you don't know in advance how many iterations it will take. Here's a common scenario:\n",
        "\n",
        "Scenario:\n",
        "\n",
        "    target = 7\n",
        "\n",
        "    count = 1\n",
        "\n",
        "        while count <= target:\n",
        "    \n",
        "    print(count)\n",
        "    \n",
        "    count += 1\n",
        "\n",
        "Why while is good here:\n",
        "\n",
        "Condition-based:\n",
        "The loop continues while count is less than or equal to target.\n",
        "Variable iterations:\n",
        "If you change target to 10, the loop automatically adjusts.\n",
        "If you used a for loop, you'd have to know the exact range of numbers beforehand, which isn't always practical.\n"
      ],
      "metadata": {
        "id": "q4Y7PyiQj05x"
      }
    },
    {
      "cell_type": "markdown",
      "source": [
        "#Practical Questions:"
      ],
      "metadata": {
        "id": "nnG-4k35usCT"
      }
    },
    {
      "cell_type": "code",
      "source": [
        "#1. Write a Python program to print \"Hello, World!?\n",
        "# Ans:\n",
        "\n",
        "print(\"Hello, World!\")\n",
        "\n"
      ],
      "metadata": {
        "id": "bO-n99gqu1Uf"
      },
      "execution_count": null,
      "outputs": []
    },
    {
      "cell_type": "code",
      "source": [
        "#2. Write a Python program that displays your name and age?\n",
        "# Ans:\n",
        "\n",
        "name = \"Avinash Bhardwaj\"\n",
        "Age = 30\n",
        "print(\"My name is\", name, \"and I am\", Age, \"years old.\")"
      ],
      "metadata": {
        "id": "KfrOwmghDxVz"
      },
      "execution_count": null,
      "outputs": []
    },
    {
      "cell_type": "code",
      "source": [
        "#3. Write code to print all the pre-defined keywords in Python using the keyword library.\n",
        "#Ans:\n",
        "\n",
        "import keyword\n",
        "\n",
        "print(\"Python keywords:\")\n",
        "for kw in keyword.kwlist:\n",
        "    print(kw)"
      ],
      "metadata": {
        "id": "dW7I0sfED0sT"
      },
      "execution_count": null,
      "outputs": []
    },
    {
      "cell_type": "code",
      "source": [
        "#4. Write a program that checks if a given word is a Python keyword?\n",
        "#Ans:\n",
        "\n",
        "print(\"Enter a word to check if it is a Python keyword:\")\n",
        "Word = input()\n",
        "if keyword.iskeyword(Word):\n",
        "    print(Word, \"is a Python keyword.\")\n",
        "else:\n",
        "    print(Word, \"is not a Python keyword.\")"
      ],
      "metadata": {
        "id": "LRFeN9hEE84x"
      },
      "execution_count": null,
      "outputs": []
    },
    {
      "cell_type": "code",
      "source": [
        "'''5. Create a list and tuple in Python, and demonstrate how attempting to change an element works differently\n",
        "for each?'''\n",
        "#Ans: # Create a list\n",
        "my_list = [1, 2, 3, 4, 5]\n",
        "\n",
        "# Create a tuple\n",
        "my_tuple = (1, 2, 3, 4, 5)\n",
        "\n",
        "print(\"Original list:\", my_list)\n",
        "print(\"Original tuple:\", my_tuple)\n",
        "\n",
        "# Attempt to change an element in the list\n",
        "my_list[0] = 10\n",
        "print(\"List after changing first element:\", my_list)\n",
        "\n",
        "# Attempt to change an element in the tuple\n",
        "try:\n",
        "    my_tuple[0] = 10\n",
        "except TypeError as e:\n",
        "    print(f\"Error: {e}\")\n",
        "    print(\"Tuples are immutable, so elements cannot be changed.\")\n",
        "\n",
        "print(\"Tuple remains the same:\", my_tuple)"
      ],
      "metadata": {
        "colab": {
          "base_uri": "https://localhost:8080/"
        },
        "id": "NEY4tDPnGjk-",
        "outputId": "59afc712-1bce-48ec-8891-49156fb8b094"
      },
      "execution_count": 33,
      "outputs": [
        {
          "output_type": "stream",
          "name": "stdout",
          "text": [
            "Original list: [1, 2, 3, 4, 5]\n",
            "Original tuple: (1, 2, 3, 4, 5)\n",
            "List after changing first element: [10, 2, 3, 4, 5]\n",
            "Error: 'tuple' object does not support item assignment\n",
            "Tuples are immutable, so elements cannot be changed.\n",
            "Tuple remains the same: (1, 2, 3, 4, 5)\n"
          ]
        }
      ]
    },
    {
      "cell_type": "code",
      "source": [
        "''' 6. Write a function to demonstrate the behavior of mutable and immutable arguments?'''\n",
        "#Ans:\n",
        "\n",
        "my_list = [1, 2, 3]\n",
        "my_tuple = (1, 2, 3)\n",
        "\n",
        "\n",
        "def demonstrate_mutability(my_list, my_tuple):\n",
        "\n",
        "    print(f\"Original mutable_list: {my_list}\")\n",
        "    print(f\"Original immutable_tuple: {my_tuple}\")\n",
        "\n",
        "    # Modify the mutable list\n",
        "    my_list.append(4)\n",
        "    my_list[0] = 0\n",
        "\n",
        "    # Try to modify the immutable tuple (creates a new tuple)\n",
        "    my_tuple = my_tuple + (5,)\n",
        "\n",
        "    print(f\"Modified mutable_list: {my_list}\")\n",
        "    print(f\"Modified immutable_tuple (new tuple): {my_tuple}\")\n",
        "    print(f\"Original immutable_tuple (unchanged): {(1, 2, 3)}\") # demonstrating original tuple is unchanged\n",
        "\n",
        "demonstrate_mutability(my_list, my_tuple)\n",
        "\n",
        "print(f\"\\nValue of my_list after function call: {my_list}\")\n",
        "print(f\"Value of my_tuple after function call: {my_tuple}\")"
      ],
      "metadata": {
        "id": "Ya1_suApIP37"
      },
      "execution_count": null,
      "outputs": []
    },
    {
      "cell_type": "code",
      "source": [
        "''' 7. Write a function to demonstrate the behavior of mutable and immutable arguments?'''\n",
        "#Ans:\n",
        "\n",
        "my_list = [1, 2, 3]\n",
        "my_tuple = (1, 2, 3)\n",
        "\n",
        "\n",
        "def demonstrate_mutability(my_list, my_tuple):\n",
        "\n",
        "    print(f\"Original mutable_list: {my_list}\")\n",
        "    print(f\"Original immutable_tuple: {my_tuple}\")\n",
        "\n",
        "    # Modify the mutable list\n",
        "    my_list.append(4)\n",
        "    my_list[0] = 0\n",
        "\n",
        "    # Try to modify the immutable tuple (creates a new tuple)\n",
        "    my_tuple = my_tuple + (5,)\n",
        "\n",
        "    print(f\"Modified mutable_list: {my_list}\")\n",
        "    print(f\"Modified immutable_tuple (new tuple): {my_tuple}\")\n",
        "    print(f\"Original immutable_tuple (unchanged): {(1, 2, 3)}\") # demonstrating original tuple is unchanged\n",
        "\n",
        "demonstrate_mutability(my_list, my_tuple)\n",
        "\n",
        "print(f\"\\nValue of my_list after function call: {my_list}\")\n",
        "print(f\"Value of my_tuple after function call: {my_tuple}\")\n"
      ],
      "metadata": {
        "id": "9jo45ymiLK4M"
      },
      "execution_count": null,
      "outputs": []
    },
    {
      "cell_type": "code",
      "source": [
        "#8. Write a program to demonstrate the use of logical operators?\n",
        "#Ans:\n",
        "is_member = True\n",
        "is_coupon_valid = True\n",
        "is_shopping = 500\n",
        "if is_member or is_coupon_valid:\n",
        "  print(\"You can purchase the product on discount.\")\n",
        "else:\n",
        "  print(\"Please show me a valid coupon\")\n",
        "if is_member and is_shopping >=1000:\n",
        "  print(\"You are now eligible for 500 discount\")\n",
        "else:\n",
        "  print(\"You are not eligible for discount\")\n",
        "if not is_member:\n",
        "  print(\"You are not a member\")\n",
        "else:\n",
        "  print(\"You are a member\")\n"
      ],
      "metadata": {
        "colab": {
          "base_uri": "https://localhost:8080/"
        },
        "id": "Ji3rn5G30paK",
        "outputId": "75d6eae1-9d0e-42c0-ca9d-028b301ac8e1"
      },
      "execution_count": 27,
      "outputs": [
        {
          "output_type": "stream",
          "name": "stdout",
          "text": [
            "You can purchase the product on discount.\n",
            "You are not eligible for discount\n",
            "You are a member\n"
          ]
        }
      ]
    },
    {
      "cell_type": "code",
      "source": [
        "#9. Write a Python program to convert user input from string to integer, float, and boolean types?\n",
        "#Ans:-\n",
        "user_input = input(\"Enter a value:\")\n",
        "type(user_input)\n",
        "\n",
        "#String to Int\n",
        "if user_input.isdigit():\n",
        "  value = int(user_input)\n",
        "  print(value)\n",
        "else:\n",
        "  print(\"Invalid input. Please enter a valid integer.\")\n",
        "\n",
        "#String to Float\n",
        "if user_input.isdigit():\n",
        "  value = float(user_input)\n",
        "  print(value)\n",
        "else:\n",
        "  print(\"Invalid input. can not conver in float.\")\n",
        "\n",
        "#String to boolean\n",
        "lower_input = user_input.lower()\n",
        "\n",
        "if lower_input == \"true\":\n",
        "  value = True\n",
        "  print(\"Boolean\",value)\n",
        "elif lower_input == \"false\":\n",
        "  value = False\n",
        "  print(\"Boolean\",value)\n",
        "else:\n",
        "  print(\"Invalid input. can not convert in boolean.\")"
      ],
      "metadata": {
        "id": "k-4sNG5B-pYJ"
      },
      "execution_count": null,
      "outputs": []
    },
    {
      "cell_type": "code",
      "source": [
        "#10. Write code to demonstrate type casting with list elements?\n",
        "#Ans:\n",
        "data = [\"1\", \"2.5\", \"test\", 0, True]\n",
        "\n",
        "ints = []\n",
        "floats = []\n",
        "strings = []\n",
        "bools = []\n",
        "\n",
        "for item in data:\n",
        "    try:\n",
        "        ints.append(int(item))\n",
        "    except ValueError:\n",
        "        ints.append(None)\n",
        "\n",
        "    try:\n",
        "        floats.append(float(item))\n",
        "    except ValueError:\n",
        "        floats.append(None)\n",
        "\n",
        "    strings.append(str(item))\n",
        "    bools.append(bool(item))\n",
        "\n",
        "print(\"Ints:\", ints)\n",
        "print(\"Floats:\", floats)\n",
        "print(\"Strings:\", strings)\n",
        "print(\"Bools:\", bools)"
      ],
      "metadata": {
        "id": "0IgC9pEqIDYA"
      },
      "execution_count": null,
      "outputs": []
    },
    {
      "cell_type": "code",
      "source": [
        "#11. Write a program that checks if a number is positive, negative, or zero?\n",
        "#Ans:\n",
        "num = int(input(\"Enter a number: \"))\n",
        "\n",
        "if num > 0:\n",
        "    print(\"The number is positive.\")\n",
        "elif num < 0:\n",
        "    print(\"The number is negative.\")\n",
        "else:\n",
        "    print(\"The number is zero.\")\n"
      ],
      "metadata": {
        "id": "HCvmxhFQS3v0"
      },
      "execution_count": null,
      "outputs": []
    },
    {
      "cell_type": "code",
      "source": [
        "#12. Write a for loop to print numbers from 1 to 10.\n",
        "#Ans:\n",
        "for num in range(1, 11): # syntax of range(start index, end index+1)\n",
        "    print(num)"
      ],
      "metadata": {
        "id": "5-NtVJMZS7pw"
      },
      "execution_count": null,
      "outputs": []
    },
    {
      "cell_type": "code",
      "source": [
        "#13. Write a Python program to find the sum of all even numbers between 1 and 50.\n",
        "#Ans:\n",
        "even = 0\n",
        "\n",
        "for num in range(1, 51):\n",
        "    if num % 2 == 0:\n",
        "        even += num\n",
        "\n",
        "print(\"The sum of even numbers between 1 and 50 is:\", even)"
      ],
      "metadata": {
        "id": "y8R52LqATaFc"
      },
      "execution_count": null,
      "outputs": []
    },
    {
      "cell_type": "code",
      "source": [
        "#14. Write a program to reverse a string using a while loop?\n",
        "#Ans:\n",
        "string = input(\"Enter a string: \")\n",
        "reversed_string = \"\"\n",
        "Rstring= \"\"\n",
        "i= len(string)-1\n",
        "while i>=0:\n",
        "  Rstring += string[i]\n",
        "  i-=1\n",
        "print(\"Reversed String:\",Rstring)"
      ],
      "metadata": {
        "colab": {
          "base_uri": "https://localhost:8080/"
        },
        "id": "ZwwyAfgIYZya",
        "outputId": "d9bd5447-aa1f-4e61-cc5c-abfa12ab8d13"
      },
      "execution_count": 112,
      "outputs": [
        {
          "output_type": "stream",
          "name": "stdout",
          "text": [
            "Enter a string: ram\n",
            "Reversed String mar\n"
          ]
        }
      ]
    },
    {
      "cell_type": "code",
      "source": [
        "#15. Write a Python program to calculate the factorial of a number provided by the user using a while loop.\n",
        "#Ans.\n",
        "num = int(input(\"Enter a number: \"))\n",
        "factorial = 1\n",
        "current = 1\n",
        "\n",
        "while current <= num:\n",
        "    factorial *= current\n",
        "    current += 1\n",
        "\n",
        "print(f\"The factorial of {num} is {factorial}\")\n"
      ],
      "metadata": {
        "id": "QZmMrwd8cdHT"
      },
      "execution_count": null,
      "outputs": []
    }
  ]
}